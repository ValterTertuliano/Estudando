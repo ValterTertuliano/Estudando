{
 "cells": [
  {
   "cell_type": "markdown",
   "metadata": {},
   "source": [
    "Exercicio: Treine e rode seu primeiro modelo\n",
    "\n",
    "Nós aprendemos que MODELOS são codigos de computadores que processam informações e fazem a previsão ou uma decisão.\n",
    "\n",
    "Nós vamos treinar um modeloa para encontrar botas confortaveis para \n",
    "cães, usando o tamanho das guias(coleira) como base.\n",
    "\n"
   ]
  },
  {
   "cell_type": "markdown",
   "metadata": {},
   "source": [
    "Preparando DADOS\n",
    "\n",
    "A primeira coisa que precisamos é carregar os dados para o treinamento do modelo\n",
    "\n",
    "por enquanto vamos adicionar os dados diretamente no codigo\n",
    "\n",
    "Revise e Rode o seguinte condigo para começar:"
   ]
  },
  {
   "cell_type": "code",
   "execution_count": null,
   "metadata": {},
   "outputs": [],
   "source": [
    "import pandas\n",
    "\n",
    "!curl -O https://raw.githubusercontent.com/MicrosoftDocs/mslearn-introduction-to-machine-learning/main/graphing.py\n",
    "!curl -O https://raw.githubusercontent.com/MicrosoftDocs/mslearn-introduction-to-machine-learning/main/Data/doggy-boot-harness.csv\n",
    "\n",
    "!pip install statsmodels\n",
    "\n",
    "# criar um dicionario para o tamanho das botas\n",
    "# o tamanho das coleiras esta em centimetros\n",
    "\n",
    "dados = {\n",
    "    'boot_size' : [ 39, 38, 37, 39, 38, 35, 37, 36, 35, 40, \n",
    "                    40, 36, 38, 39, 42, 42, 36, 36, 35, 41, \n",
    "                    42, 38, 37, 35, 40, 36, 35, 39, 41, 37, \n",
    "                    35, 41, 39, 41, 42, 42, 36, 37, 37, 39,\n",
    "                    42, 35, 36, 41, 41, 41, 39, 39, 35, 39\n",
    " ],\n",
    "    'harness_size': [ 58, 58, 52, 58, 57, 52, 55, 53, 49, 54,\n",
    "                59, 56, 53, 58, 57, 58, 56, 51, 50, 59,\n",
    "                59, 59, 55, 50, 55, 52, 53, 54, 61, 56,\n",
    "                55, 60, 57, 56, 61, 58, 53, 57, 57, 55,\n",
    "                60, 51, 52, 56, 55, 57, 58, 57, 51, 59\n",
    "                ]\n",
    "}\n",
    "\n",
    "# converter esses dados em uma tabela usando pandas\n",
    "dataset = pandas.DataFrame(dados)\n",
    "\n",
    "dataset # no jupyter para imprimir não precisa dar print\n",
    "\n",
    "\n",
    "\n"
   ]
  },
  {
   "cell_type": "markdown",
   "metadata": {},
   "source": [
    "Como podemos ver, temos o tamanho de botas e coleiras de 50 cães para avalanche\n",
    "\n",
    "Nós precisamos usar o tamanho das coleiras para fazer a estimativa do tamanho das botas.\n",
    "\n",
    "Isso significa que tamanho_coleira é nossa entrada. Precisamos que o modelo processe a entrada e faça a propria estimativa do tamanho da bota( saida ).\n",
    "\n"
   ]
  },
  {
   "cell_type": "markdown",
   "metadata": {},
   "source": [
    "Selecionando o modelo\n",
    "\n",
    "A primeira coisa que temos que fazer é selecionar o modelo.\n",
    "\n",
    "Nós estamos apenas começando, vamos começar com um modelo simples chamado OLS. \n",
    " Isso é apenas uma linha, conhecida também como Linhas de tendencia\n",
    "\n",
    " Nós vamos usar uma biblioteca existente para criar o modelo, mas não vamos treinar ele ainda"
   ]
  },
  {
   "cell_type": "code",
   "execution_count": null,
   "metadata": {},
   "outputs": [],
   "source": [
    "#carrega a biblioteca para o trabalho pesado\n",
    "import statsmodels.formula.api as smf\n",
    "\n",
    "# Primeiro, defina sua formula usando uma sintax especial\n",
    "# Isso fsignifica que as botas são explicadas pelas coleiras\n",
    "formula = \"boot_size ~ harness_size\"\n",
    "\n",
    "# crie o modelo, mais não está treinando ele ainda\n",
    "model = smf.ols(formula= formula, data = dataset)\n",
    "\n",
    "# note que criamos o modelo mas ele ainda não tem parametros internos definidos\n",
    "if not hasattr(model, 'params'):\n",
    "    print(\"Modelo selecionado mais ainda não possui parametros definidos..\")\n"
   ]
  },
  {
   "cell_type": "markdown",
   "metadata": {},
   "source": [
    "TREINANDO O MODELO\n",
    "\n",
    "O modelo OLS tem dois parametros(uma inclinação/intercept e um deslocamento/slope), mas eles não foram definidos no modelo.\n",
    "\n",
    "Precisamos treinar o modelo(fit/ajustar) para  encontrar esses valores para que o modelo possa prever com segurança o tamanho das botas dos cachorros com base nas coleiras.\n",
    "\n",
    "O codigo a seguir usa o metodo fit para ajustar o modelo aos dados do dataframe pandas na variavel  \"dataset\""
   ]
  },
  {
   "cell_type": "code",
   "execution_count": null,
   "metadata": {},
   "outputs": [],
   "source": [
    "# Treinar (ajustar) o modelo para que ele crie uma linha que\n",
    "# se ajuste aos nossos dados. Este método faz o trabalho pesado para\n",
    "# nós. Vamos ver como este método funciona em uma unidade posterior.\n",
    "fitted_model = model.fit()\n",
    "\n",
    "# Imprimir informações sobre o nosso modelo agora que ele foi ajustado\n",
    "print(\"Os seguintes parâmetros do modelo foram encontrados:\\n\" +\n",
    "        f\"Inclinação da linha: {fitted_model.params[1]}\\n\"+\n",
    "        f\"Interceptação da linha: {fitted_model.params[0]}\")\n"
   ]
  },
  {
   "cell_type": "markdown",
   "metadata": {},
   "source": [
    "Observe como treinar o modelo definiu seus parâmetros. Poderíamos interpretar esses parâmetros diretamente, mas é mais simples ver isso como um gráfico.\n",
    "\n"
   ]
  },
  {
   "cell_type": "code",
   "execution_count": null,
   "metadata": {},
   "outputs": [],
   "source": [
    "import matplotlib.pyplot as plt\n",
    "\n",
    "# Exibir um gráfico de dispersão dos pontos de dados e adicionar a linha ajustada\n",
    "# Não se preocupe com o funcionamento disso por enquanto\n",
    "plt.scatter(dataset[\"harness_size\"], dataset[\"boot_size\"])\n",
    "plt.plot(dataset[\"harness_size\"], fitted_model.params[1] * dataset[\"harness_size\"] + fitted_model.params[0], 'r', label='Linha ajustada')\n",
    "\n",
    "# Adicionar rótulos e legenda\n",
    "plt.xlabel(\"tamanho da coleira/guia\")\n",
    "plt.ylabel(\"tamanho da bota\")\n",
    "plt.legend()\n"
   ]
  },
  {
   "cell_type": "markdown",
   "metadata": {},
   "source": [
    "O grafico anterior exibe os dados originais nos pontos azuis com uma linha vermelha através deles, a linha vermelha representa o resultado do modelo.\n",
    "\n",
    "Precisamos olhar essa linha para entender nosso modelo.\n",
    "Por exeplo, claramente vemos que a medida das coleiras aumenta conforme o tamanho estimado da bota.\n",
    "\n",
    "            USANDO O MODELO\n",
    "\n",
    "Agora que finalizamos o treinamento, nós podemos usar o modelo para prever o tamanho das botas atraves do tamanho das coleiras\n",
    "\n",
    "por exemplo, olhando para a linha vermelha nós podemos ver que uma coleira com o tamanho de 52.5 cm (eixo X) corresponde a uma bota de tamanho 36.5 (eixo Y)\n",
    "\n",
    "Não precisamos fazer isso á olho nú, nós podemos usar o modelo em um programa prever o tamanho da bota\n",
    "\n",
    "\n"
   ]
  },
  {
   "cell_type": "code",
   "execution_count": 12,
   "metadata": {},
   "outputs": [
    {
     "name": "stdout",
     "output_type": "stream",
     "text": [
      "Tamanho da bota estimado:\n",
      "36.48019419144182\n"
     ]
    }
   ],
   "source": [
    "# harness_size indica o tamanho do coleiras que nos interessa\n",
    "harness_size = { 'harness_size' : [52.5] }\n",
    "\n",
    "# Usar o modelo para prever qual tamanho de bota o cachorro vai usar\n",
    "tamanho_bota_estimado = fitted_model.predict(harness_size)\n",
    "\n",
    "# Imprimir o resultado\n",
    "print(\"Tamanho da bota estimado:\")\n",
    "print(tamanho_bota_estimado[0])\n"
   ]
  }
 ],
 "metadata": {
  "kernelspec": {
   "display_name": "Python 3",
   "language": "python",
   "name": "python3"
  },
  "language_info": {
   "codemirror_mode": {
    "name": "ipython",
    "version": 3
   },
   "file_extension": ".py",
   "mimetype": "text/x-python",
   "name": "python",
   "nbconvert_exporter": "python",
   "pygments_lexer": "ipython3",
   "version": "3.13.0"
  }
 },
 "nbformat": 4,
 "nbformat_minor": 2
}

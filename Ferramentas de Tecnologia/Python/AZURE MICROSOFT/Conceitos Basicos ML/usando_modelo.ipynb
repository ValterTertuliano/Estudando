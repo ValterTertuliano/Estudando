{
 "cells": [
  {
   "cell_type": "markdown",
   "metadata": {},
   "source": [
    "Carregando dados\n"
   ]
  },
  {
   "cell_type": "code",
   "execution_count": 86,
   "metadata": {},
   "outputs": [
    {
     "name": "stdout",
     "output_type": "stream",
     "text": [
      "Requirement already satisfied: statsmodels in c:\\users\\valte\\appdata\\local\\programs\\python\\python313\\lib\\site-packages (0.14.4)\n",
      "Requirement already satisfied: numpy<3,>=1.22.3 in c:\\users\\valte\\appdata\\local\\programs\\python\\python313\\lib\\site-packages (from statsmodels) (2.2.1)\n",
      "Requirement already satisfied: scipy!=1.9.2,>=1.8 in c:\\users\\valte\\appdata\\local\\programs\\python\\python313\\lib\\site-packages (from statsmodels) (1.15.0)\n",
      "Requirement already satisfied: pandas!=2.1.0,>=1.4 in c:\\users\\valte\\appdata\\local\\programs\\python\\python313\\lib\\site-packages (from statsmodels) (2.2.3)\n",
      "Requirement already satisfied: patsy>=0.5.6 in c:\\users\\valte\\appdata\\local\\programs\\python\\python313\\lib\\site-packages (from statsmodels) (1.0.1)\n",
      "Requirement already satisfied: packaging>=21.3 in c:\\users\\valte\\appdata\\local\\programs\\python\\python313\\lib\\site-packages (from statsmodels) (24.2)\n",
      "Requirement already satisfied: python-dateutil>=2.8.2 in c:\\users\\valte\\appdata\\local\\programs\\python\\python313\\lib\\site-packages (from pandas!=2.1.0,>=1.4->statsmodels) (2.9.0.post0)\n",
      "Requirement already satisfied: pytz>=2020.1 in c:\\users\\valte\\appdata\\local\\programs\\python\\python313\\lib\\site-packages (from pandas!=2.1.0,>=1.4->statsmodels) (2024.2)\n",
      "Requirement already satisfied: tzdata>=2022.7 in c:\\users\\valte\\appdata\\local\\programs\\python\\python313\\lib\\site-packages (from pandas!=2.1.0,>=1.4->statsmodels) (2024.2)\n",
      "Requirement already satisfied: six>=1.5 in c:\\users\\valte\\appdata\\local\\programs\\python\\python313\\lib\\site-packages (from python-dateutil>=2.8.2->pandas!=2.1.0,>=1.4->statsmodels) (1.17.0)\n"
     ]
    },
    {
     "name": "stderr",
     "output_type": "stream",
     "text": [
      "  % Total    % Received % Xferd  Average Speed   Time    Time     Time  Current\n",
      "                                 Dload  Upload   Total   Spent    Left  Speed\n",
      "\n",
      "  0     0    0     0    0     0      0      0 --:--:-- --:--:-- --:--:--     0\n",
      "100 21511  100 21511    0     0  67143      0 --:--:-- --:--:-- --:--:-- 68288\n",
      "  % Total    % Received % Xferd  Average Speed   Time    Time     Time  Current\n",
      "                                 Dload  Upload   Total   Spent    Left  Speed\n",
      "\n",
      "  0     0    0     0    0     0      0      0 --:--:-- --:--:-- --:--:--     0\n",
      "  0     0    0     0    0     0      0      0 --:--:-- --:--:-- --:--:--     0\n",
      "100   838  100   838    0     0   1391      0 --:--:-- --:--:-- --:--:--  1413\n"
     ]
    },
    {
     "data": {
      "text/html": [
       "<div>\n",
       "<style scoped>\n",
       "    .dataframe tbody tr th:only-of-type {\n",
       "        vertical-align: middle;\n",
       "    }\n",
       "\n",
       "    .dataframe tbody tr th {\n",
       "        vertical-align: top;\n",
       "    }\n",
       "\n",
       "    .dataframe thead th {\n",
       "        text-align: right;\n",
       "    }\n",
       "</style>\n",
       "<table border=\"1\" class=\"dataframe\">\n",
       "  <thead>\n",
       "    <tr style=\"text-align: right;\">\n",
       "      <th></th>\n",
       "      <th>boot_size</th>\n",
       "      <th>harness_size</th>\n",
       "      <th>sex</th>\n",
       "      <th>age_years</th>\n",
       "    </tr>\n",
       "  </thead>\n",
       "  <tbody>\n",
       "    <tr>\n",
       "      <th>0</th>\n",
       "      <td>39</td>\n",
       "      <td>58</td>\n",
       "      <td>male</td>\n",
       "      <td>12.0</td>\n",
       "    </tr>\n",
       "    <tr>\n",
       "      <th>1</th>\n",
       "      <td>38</td>\n",
       "      <td>58</td>\n",
       "      <td>male</td>\n",
       "      <td>9.6</td>\n",
       "    </tr>\n",
       "    <tr>\n",
       "      <th>2</th>\n",
       "      <td>37</td>\n",
       "      <td>52</td>\n",
       "      <td>female</td>\n",
       "      <td>8.6</td>\n",
       "    </tr>\n",
       "    <tr>\n",
       "      <th>3</th>\n",
       "      <td>39</td>\n",
       "      <td>58</td>\n",
       "      <td>male</td>\n",
       "      <td>10.2</td>\n",
       "    </tr>\n",
       "    <tr>\n",
       "      <th>4</th>\n",
       "      <td>38</td>\n",
       "      <td>57</td>\n",
       "      <td>male</td>\n",
       "      <td>7.8</td>\n",
       "    </tr>\n",
       "  </tbody>\n",
       "</table>\n",
       "</div>"
      ],
      "text/plain": [
       "   boot_size  harness_size     sex  age_years\n",
       "0         39            58    male       12.0\n",
       "1         38            58    male        9.6\n",
       "2         37            52  female        8.6\n",
       "3         39            58    male       10.2\n",
       "4         38            57    male        7.8"
      ]
     },
     "execution_count": 86,
     "metadata": {},
     "output_type": "execute_result"
    }
   ],
   "source": [
    "import pandas\n",
    "!pip install statsmodels\n",
    "!curl -O https://raw.githubusercontent.com/MicrosoftDocs/mslearn-introduction-to-machine-learning/main/graphing.py\n",
    "!curl -O https://raw.githubusercontent.com/MicrosoftDocs/mslearn-introduction-to-machine-learning/main/Data/doggy-boot-harness.csv\n",
    "\n",
    "# carrega o arquivo contendo os dados de botas e coleiras\n",
    "data = pandas.read_csv('doggy-boot-harness.csv')\n",
    "\n",
    "# verificar arquivo\n",
    "data.head()"
   ]
  },
  {
   "cell_type": "markdown",
   "metadata": {},
   "source": [
    "Criando e treinando o modelo"
   ]
  },
  {
   "cell_type": "code",
   "execution_count": 87,
   "metadata": {},
   "outputs": [],
   "source": [
    "import statsmodels.formula.api as smf\n",
    "\n",
    "# Regressão linear simples\n",
    "# as botas explicam as coleiras\n",
    "modelo = smf.ols(formula= \"boot_size ~ harness_size\", data = data).fit()\n"
   ]
  },
  {
   "cell_type": "markdown",
   "metadata": {},
   "source": [
    "Salvando o modelo"
   ]
  },
  {
   "cell_type": "code",
   "execution_count": 88,
   "metadata": {},
   "outputs": [
    {
     "data": {
      "text/plain": [
       "['./avalanche_dog_boot_model.pkl']"
      ]
     },
     "execution_count": 88,
     "metadata": {},
     "output_type": "execute_result"
    }
   ],
   "source": [
    "import joblib\n",
    "\n",
    "arquivo_modelo = './avalanche_dog_boot_model.pkl'\n",
    "joblib.dump(modelo, arquivo_modelo)"
   ]
  },
  {
   "cell_type": "markdown",
   "metadata": {},
   "source": [
    "Carregando o modelo"
   ]
  },
  {
   "cell_type": "code",
   "execution_count": 89,
   "metadata": {},
   "outputs": [
    {
     "name": "stdout",
     "output_type": "stream",
     "text": [
      "Carregamos o modelo com os seguintes parametros:  Intercept       5.719110\n",
      "harness_size    0.585925\n",
      "dtype: float64\n"
     ]
    }
   ],
   "source": [
    "modelo_carregado = joblib.load(arquivo_modelo)\n",
    "\n",
    "print(\"Carregamos o modelo com os seguintes parametros: \", modelo_carregado.params)"
   ]
  },
  {
   "cell_type": "markdown",
   "metadata": {},
   "source": [
    "Carregando e usando o modelo"
   ]
  },
  {
   "cell_type": "code",
   "execution_count": 90,
   "metadata": {},
   "outputs": [
    {
     "name": "stdout",
     "output_type": "stream",
     "text": [
      "32.085753565904774\n"
     ]
    }
   ],
   "source": [
    "def carregar_modelo_e_prever(tamanho_guia: int) -> float:\n",
    "    '''\n",
    "    essa função carrega um modelo pré-treinado.\n",
    "    essa função usa o modelo junto com o tamanho da guia do cliente\n",
    "    para prever o tamanho da bota do cachorro\n",
    "    \n",
    "    Parametro:\n",
    "    tamanho_guia: tamanho da guia em cm\n",
    "\n",
    "    Retorna: valor estimado para o tamanho da bota \n",
    "    '''\n",
    "\n",
    "    carregar_modelo = joblib.load(arquivo_modelo) # carrega o arquivo\n",
    "\n",
    "    entrada = {\"harness_size\":[tamanho_guia]} # prepara os dados para o modelo\n",
    "\n",
    "    prever_botas = carregar_modelo.predict(entrada)[0]\n",
    "\n",
    "    return prever_botas\n",
    "\n",
    "tamanho_previsto_bota = carregar_modelo_e_prever(45.0)\n",
    "print(tamanho_previsto_bota)\n",
    "\n",
    "\n",
    "\n"
   ]
  },
  {
   "cell_type": "markdown",
   "metadata": {},
   "source": [
    "Vamos usar o modelo para garantir que o cliente não compre o tamanho errado de botas"
   ]
  },
  {
   "cell_type": "code",
   "execution_count": 91,
   "metadata": {},
   "outputs": [
    {
     "name": "stdout",
     "output_type": "stream",
     "text": [
      "Talvez essas botas sejam grandes, tente as de tamanho 35.\n",
      "Talvez essas botas sejam grandes, tente as de tamanho 29.\n",
      "Talvez essas botas sejam grandes, tente as de tamanho 23.\n",
      "--------------------\n",
      "Talvez essas botas sejam grandes, tente as de tamanho 35.\n",
      "Talvez essas botas sejam pequenas, tente as de tamanho 35.\n",
      "Talvez essas botas sejam pequenas, tente as de tamanho 35.\n"
     ]
    }
   ],
   "source": [
    "def checar_botas_ideias(tamanho_guia: int, tamanho_bota: int) -> str:\n",
    "    '''\n",
    "    Calcula se o cliente escolheu um par de botas para cachorro\n",
    "    que tem um tamanho adequado. Isso funciona estimando o tamanho\n",
    "    real das botas do cachorro com base no tamanho do arnês.\n",
    "\n",
    "    Retorna uma mensagem para o cliente que deve ser exibida antes\n",
    "    de ele concluir o pagamento.\n",
    "    \n",
    "    Parametros:\n",
    "    tamanho_guia: o tamanho da guia escolhida pelo cliente\n",
    "    tamanho_bota: o tamanho da bota escolhida pelo cliente\n",
    "    '''\n",
    "\n",
    "    # Fazendo a previsao \n",
    "    previsao_bota = carregar_modelo_e_prever(tamanho_guia)\n",
    "\n",
    "    # arredondando \n",
    "    previsao_bota = int(round(previsao_bota))\n",
    "\n",
    "    if tamanho_bota == previsao_bota:\n",
    "        return \"Escolha perfeita!\"\n",
    "    \n",
    "    if tamanho_bota < previsao_bota:\n",
    "        return f\"Talvez essas botas sejam pequenas, tente as de tamanho {previsao_bota}.\"\n",
    "    \n",
    "    # Caso tamanho_bota > previsao_bota\n",
    "    return f\"Talvez essas botas sejam grandes, tente as de tamanho {previsao_bota}.\"\n",
    "\n",
    "print(checar_botas_ideias(50, 40))\n",
    "print(checar_botas_ideias(40, 40))\n",
    "print(checar_botas_ideias(30, 40))\n",
    "print(\"-\"*20)\n",
    "print(checar_botas_ideias(50, 40))\n",
    "print(checar_botas_ideias(50, 30))\n",
    "print(checar_botas_ideias(50, 20))\n"
   ]
  }
 ],
 "metadata": {
  "kernelspec": {
   "display_name": "Python 3",
   "language": "python",
   "name": "python3"
  },
  "language_info": {
   "codemirror_mode": {
    "name": "ipython",
    "version": 3
   },
   "file_extension": ".py",
   "mimetype": "text/x-python",
   "name": "python",
   "nbconvert_exporter": "python",
   "pygments_lexer": "ipython3",
   "version": "3.13.0"
  }
 },
 "nbformat": 4,
 "nbformat_minor": 2
}
